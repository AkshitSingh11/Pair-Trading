{
  "nbformat": 4,
  "nbformat_minor": 0,
  "metadata": {
    "colab": {
      "provenance": [],
      "authorship_tag": "ABX9TyPUJT2Br+Af/t0i0JzwbTN+",
      "include_colab_link": true
    },
    "kernelspec": {
      "name": "python3",
      "display_name": "Python 3"
    },
    "language_info": {
      "name": "python"
    }
  },
  "cells": [
    {
      "cell_type": "markdown",
      "metadata": {
        "id": "view-in-github",
        "colab_type": "text"
      },
      "source": [
        "<a href=\"https://colab.research.google.com/github/AkshitSingh11/Pair-Trading/blob/main/co_integration_p_value_test.ipynb\" target=\"_parent\"><img src=\"https://colab.research.google.com/assets/colab-badge.svg\" alt=\"Open In Colab\"/></a>"
      ]
    },
    {
      "cell_type": "markdown",
      "source": [
        "The tickers that I have taken here are same as that when comparing correlation in the main ipynb notebook"
      ],
      "metadata": {
        "id": "JG1odSrwFPMH"
      }
    },
    {
      "cell_type": "code",
      "execution_count": null,
      "metadata": {
        "colab": {
          "base_uri": "https://localhost:8080/"
        },
        "id": "mSGXuSNp1noM",
        "outputId": "d4393e2e-a238-41b5-a14e-38ec51e17d0f"
      },
      "outputs": [
        {
          "output_type": "stream",
          "name": "stdout",
          "text": [
            "YF.download() has changed argument auto_adjust default to True\n"
          ]
        },
        {
          "output_type": "stream",
          "name": "stderr",
          "text": [
            "[*********************100%***********************]  16 of 16 completed\n"
          ]
        }
      ],
      "source": [
        "import yfinance as yf\n",
        "import pandas as pd\n",
        "import numpy as np\n",
        "from statsmodels.tsa.stattools import coint\n",
        "from itertools import combinations\n",
        "\n",
        "tickers = [\"AMZN\", \"AAPL\", \"GOOGL\", \"ADBE\", \"GME\", \"HD\", 'IBM',\"CRM\", \"AVGO\", \"WMT\",\"GS\",\"XOM\",\"NKE\",\"BRK-B\", \"MSFT\", 'NVDA']\n",
        "\n",
        "data = yf.download(tickers, start=\"2019-01-01\", end=\"2023-12-31\")['Close'].dropna()\n",
        "\n",
        "data = data.dropna(axis=1)\n",
        "\n",
        "results = []"
      ]
    },
    {
      "cell_type": "code",
      "source": [
        "for stock1, stock2 in combinations(data.columns, 2):\n",
        "    series1 = data[stock1]\n",
        "    series2 = data[stock2]\n",
        "\n",
        "    correlation = series1.corr(series2)\n",
        "\n",
        "    if correlation > 0.85:\n",
        "        coint_result = coint(series1, series2)\n",
        "        p_value = coint_result[1]\n",
        "\n",
        "        if p_value < 0.1:\n",
        "            results.append({\n",
        "                'Stock 1': stock1,\n",
        "                'Stock 2': stock2,\n",
        "                'Correlation': correlation,\n",
        "                'Cointegration P-Value': p_value\n",
        "            })\n",
        "\n",
        "results_df = pd.DataFrame(results).sort_values(by='Correlation', ascending=False)\n",
        "print(\"Pairs suitable for pair trading:\")\n",
        "print(results_df)"
      ],
      "metadata": {
        "colab": {
          "base_uri": "https://localhost:8080/"
        },
        "id": "VcML6J1Q1_PQ",
        "outputId": "92e9a2e7-46d9-4abc-fa73-94cfc0f72505"
      },
      "execution_count": null,
      "outputs": [
        {
          "output_type": "stream",
          "name": "stdout",
          "text": [
            "Pairs suitable for pair trading:\n",
            "  Stock 1 Stock 2  Correlation  Cointegration P-Value\n",
            "0    AAPL     WMT     0.916828               0.017897\n",
            "6      HD    MSFT     0.913833               0.077162\n",
            "4   GOOGL      HD     0.913401               0.047667\n",
            "1    ADBE     CRM     0.909408               0.011558\n",
            "5      GS      HD     0.906600               0.069259\n",
            "7    MSFT     WMT     0.901586               0.051275\n",
            "2    AMZN     CRM     0.876325               0.066083\n",
            "3    AVGO     IBM     0.853247               0.079400\n"
          ]
        }
      ]
    },
    {
      "cell_type": "markdown",
      "source": [
        "The top 3 pairs are from different industry. So I choose ADBE and CRM as they are both provide computer software services"
      ],
      "metadata": {
        "id": "sf5w6trHDWNG"
      }
    }
  ]
}